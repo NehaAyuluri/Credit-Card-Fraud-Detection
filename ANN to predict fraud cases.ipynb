{
 "cells": [
  {
   "cell_type": "code",
   "execution_count": 6,
   "metadata": {},
   "outputs": [],
   "source": [
    "import pandas as pd\n",
    "import seaborn as sns\n",
    "import matplotlib.pyplot as plt\n",
    "from sklearn.model_selection import train_test_split"
   ]
  },
  {
   "cell_type": "code",
   "execution_count": 13,
   "metadata": {},
   "outputs": [],
   "source": [
    "import tensorflow\n",
    "from tensorflow.keras.layers import Dense\n",
    "from tensorflow.keras.models import Sequential\n",
    "from sklearn.metrics import roc_auc_score"
   ]
  },
  {
   "cell_type": "code",
   "execution_count": 2,
   "metadata": {},
   "outputs": [
    {
     "data": {
      "text/html": [
       "<div>\n",
       "<style scoped>\n",
       "    .dataframe tbody tr th:only-of-type {\n",
       "        vertical-align: middle;\n",
       "    }\n",
       "\n",
       "    .dataframe tbody tr th {\n",
       "        vertical-align: top;\n",
       "    }\n",
       "\n",
       "    .dataframe thead th {\n",
       "        text-align: right;\n",
       "    }\n",
       "</style>\n",
       "<table border=\"1\" class=\"dataframe\">\n",
       "  <thead>\n",
       "    <tr style=\"text-align: right;\">\n",
       "      <th></th>\n",
       "      <th>scaled_amount</th>\n",
       "      <th>scaled_time</th>\n",
       "      <th>V1</th>\n",
       "      <th>V2</th>\n",
       "      <th>V4</th>\n",
       "      <th>V5</th>\n",
       "      <th>V6</th>\n",
       "      <th>V7</th>\n",
       "      <th>V8</th>\n",
       "      <th>V11</th>\n",
       "      <th>...</th>\n",
       "      <th>V22</th>\n",
       "      <th>V23</th>\n",
       "      <th>V24</th>\n",
       "      <th>V25</th>\n",
       "      <th>V26</th>\n",
       "      <th>V27</th>\n",
       "      <th>V28</th>\n",
       "      <th>Class</th>\n",
       "      <th>scores</th>\n",
       "      <th>anomaly</th>\n",
       "    </tr>\n",
       "  </thead>\n",
       "  <tbody>\n",
       "    <tr>\n",
       "      <th>0</th>\n",
       "      <td>-0.282401</td>\n",
       "      <td>0.409239</td>\n",
       "      <td>-0.412125</td>\n",
       "      <td>0.689071</td>\n",
       "      <td>-1.672189</td>\n",
       "      <td>3.549380</td>\n",
       "      <td>3.181706</td>\n",
       "      <td>0.578688</td>\n",
       "      <td>0.660969</td>\n",
       "      <td>0.183458</td>\n",
       "      <td>...</td>\n",
       "      <td>-0.754061</td>\n",
       "      <td>-0.018708</td>\n",
       "      <td>0.606893</td>\n",
       "      <td>-0.671096</td>\n",
       "      <td>0.107782</td>\n",
       "      <td>0.116460</td>\n",
       "      <td>0.027057</td>\n",
       "      <td>0</td>\n",
       "      <td>0.272523</td>\n",
       "      <td>1</td>\n",
       "    </tr>\n",
       "    <tr>\n",
       "      <th>1</th>\n",
       "      <td>-0.251520</td>\n",
       "      <td>-0.403482</td>\n",
       "      <td>-1.557997</td>\n",
       "      <td>1.445214</td>\n",
       "      <td>-0.703680</td>\n",
       "      <td>-0.619161</td>\n",
       "      <td>-0.351902</td>\n",
       "      <td>-0.171144</td>\n",
       "      <td>1.115511</td>\n",
       "      <td>1.013396</td>\n",
       "      <td>...</td>\n",
       "      <td>-0.202123</td>\n",
       "      <td>0.085877</td>\n",
       "      <td>0.234648</td>\n",
       "      <td>-0.265061</td>\n",
       "      <td>0.303707</td>\n",
       "      <td>0.168222</td>\n",
       "      <td>0.101471</td>\n",
       "      <td>0</td>\n",
       "      <td>0.305407</td>\n",
       "      <td>1</td>\n",
       "    </tr>\n",
       "    <tr>\n",
       "      <th>2</th>\n",
       "      <td>0.948788</td>\n",
       "      <td>-0.714987</td>\n",
       "      <td>-1.153532</td>\n",
       "      <td>1.096862</td>\n",
       "      <td>-0.317905</td>\n",
       "      <td>0.210462</td>\n",
       "      <td>-1.043646</td>\n",
       "      <td>0.969250</td>\n",
       "      <td>0.145975</td>\n",
       "      <td>0.029226</td>\n",
       "      <td>...</td>\n",
       "      <td>-1.221043</td>\n",
       "      <td>0.212406</td>\n",
       "      <td>-0.071539</td>\n",
       "      <td>-0.133931</td>\n",
       "      <td>-0.045221</td>\n",
       "      <td>0.095197</td>\n",
       "      <td>0.079633</td>\n",
       "      <td>0</td>\n",
       "      <td>0.282618</td>\n",
       "      <td>1</td>\n",
       "    </tr>\n",
       "    <tr>\n",
       "      <th>3</th>\n",
       "      <td>0.230839</td>\n",
       "      <td>0.377507</td>\n",
       "      <td>-0.063657</td>\n",
       "      <td>0.716875</td>\n",
       "      <td>-1.146666</td>\n",
       "      <td>1.619539</td>\n",
       "      <td>-1.418952</td>\n",
       "      <td>1.907872</td>\n",
       "      <td>-0.679603</td>\n",
       "      <td>-1.445790</td>\n",
       "      <td>...</td>\n",
       "      <td>0.808247</td>\n",
       "      <td>-0.255063</td>\n",
       "      <td>-0.606518</td>\n",
       "      <td>-0.222594</td>\n",
       "      <td>0.099614</td>\n",
       "      <td>0.211770</td>\n",
       "      <td>0.045021</td>\n",
       "      <td>0</td>\n",
       "      <td>0.260266</td>\n",
       "      <td>1</td>\n",
       "    </tr>\n",
       "    <tr>\n",
       "      <th>4</th>\n",
       "      <td>-0.279466</td>\n",
       "      <td>0.649127</td>\n",
       "      <td>-1.034736</td>\n",
       "      <td>0.581110</td>\n",
       "      <td>1.178578</td>\n",
       "      <td>-0.194626</td>\n",
       "      <td>0.390951</td>\n",
       "      <td>-0.161889</td>\n",
       "      <td>0.245898</td>\n",
       "      <td>-1.489924</td>\n",
       "      <td>...</td>\n",
       "      <td>-0.178392</td>\n",
       "      <td>-0.344198</td>\n",
       "      <td>-0.041099</td>\n",
       "      <td>0.328147</td>\n",
       "      <td>-0.515180</td>\n",
       "      <td>-0.113233</td>\n",
       "      <td>0.118757</td>\n",
       "      <td>0</td>\n",
       "      <td>0.302035</td>\n",
       "      <td>1</td>\n",
       "    </tr>\n",
       "  </tbody>\n",
       "</table>\n",
       "<p>5 rows × 26 columns</p>\n",
       "</div>"
      ],
      "text/plain": [
       "   scaled_amount  scaled_time        V1        V2        V4        V5  \\\n",
       "0      -0.282401     0.409239 -0.412125  0.689071 -1.672189  3.549380   \n",
       "1      -0.251520    -0.403482 -1.557997  1.445214 -0.703680 -0.619161   \n",
       "2       0.948788    -0.714987 -1.153532  1.096862 -0.317905  0.210462   \n",
       "3       0.230839     0.377507 -0.063657  0.716875 -1.146666  1.619539   \n",
       "4      -0.279466     0.649127 -1.034736  0.581110  1.178578 -0.194626   \n",
       "\n",
       "         V6        V7        V8       V11  ...       V22       V23       V24  \\\n",
       "0  3.181706  0.578688  0.660969  0.183458  ... -0.754061 -0.018708  0.606893   \n",
       "1 -0.351902 -0.171144  1.115511  1.013396  ... -0.202123  0.085877  0.234648   \n",
       "2 -1.043646  0.969250  0.145975  0.029226  ... -1.221043  0.212406 -0.071539   \n",
       "3 -1.418952  1.907872 -0.679603 -1.445790  ...  0.808247 -0.255063 -0.606518   \n",
       "4  0.390951 -0.161889  0.245898 -1.489924  ... -0.178392 -0.344198 -0.041099   \n",
       "\n",
       "        V25       V26       V27       V28  Class    scores  anomaly  \n",
       "0 -0.671096  0.107782  0.116460  0.027057      0  0.272523        1  \n",
       "1 -0.265061  0.303707  0.168222  0.101471      0  0.305407        1  \n",
       "2 -0.133931 -0.045221  0.095197  0.079633      0  0.282618        1  \n",
       "3 -0.222594  0.099614  0.211770  0.045021      0  0.260266        1  \n",
       "4  0.328147 -0.515180 -0.113233  0.118757      0  0.302035        1  \n",
       "\n",
       "[5 rows x 26 columns]"
      ]
     },
     "execution_count": 2,
     "metadata": {},
     "output_type": "execute_result"
    }
   ],
   "source": [
    "data = pd.read_csv('Add_anomaly.csv',sep=',')\n",
    "data.head()"
   ]
  },
  {
   "cell_type": "code",
   "execution_count": 8,
   "metadata": {},
   "outputs": [
    {
     "data": {
      "text/html": [
       "<div>\n",
       "<style scoped>\n",
       "    .dataframe tbody tr th:only-of-type {\n",
       "        vertical-align: middle;\n",
       "    }\n",
       "\n",
       "    .dataframe tbody tr th {\n",
       "        vertical-align: top;\n",
       "    }\n",
       "\n",
       "    .dataframe thead th {\n",
       "        text-align: right;\n",
       "    }\n",
       "</style>\n",
       "<table border=\"1\" class=\"dataframe\">\n",
       "  <thead>\n",
       "    <tr style=\"text-align: right;\">\n",
       "      <th></th>\n",
       "      <th>scores</th>\n",
       "      <th>anomaly</th>\n",
       "      <th>scaled_amount</th>\n",
       "      <th>scaled_time</th>\n",
       "      <th>V1</th>\n",
       "      <th>V2</th>\n",
       "      <th>V4</th>\n",
       "      <th>V5</th>\n",
       "      <th>V6</th>\n",
       "      <th>V7</th>\n",
       "      <th>...</th>\n",
       "      <th>V20</th>\n",
       "      <th>V21</th>\n",
       "      <th>V22</th>\n",
       "      <th>V23</th>\n",
       "      <th>V24</th>\n",
       "      <th>V25</th>\n",
       "      <th>V26</th>\n",
       "      <th>V27</th>\n",
       "      <th>V28</th>\n",
       "      <th>Class</th>\n",
       "    </tr>\n",
       "  </thead>\n",
       "  <tbody>\n",
       "    <tr>\n",
       "      <th>0</th>\n",
       "      <td>0.272523</td>\n",
       "      <td>1</td>\n",
       "      <td>-0.282401</td>\n",
       "      <td>0.409239</td>\n",
       "      <td>-0.412125</td>\n",
       "      <td>0.689071</td>\n",
       "      <td>-1.672189</td>\n",
       "      <td>3.549380</td>\n",
       "      <td>3.181706</td>\n",
       "      <td>0.578688</td>\n",
       "      <td>...</td>\n",
       "      <td>0.111821</td>\n",
       "      <td>-0.332041</td>\n",
       "      <td>-0.754061</td>\n",
       "      <td>-0.018708</td>\n",
       "      <td>0.606893</td>\n",
       "      <td>-0.671096</td>\n",
       "      <td>0.107782</td>\n",
       "      <td>0.116460</td>\n",
       "      <td>0.027057</td>\n",
       "      <td>0</td>\n",
       "    </tr>\n",
       "    <tr>\n",
       "      <th>1</th>\n",
       "      <td>0.305407</td>\n",
       "      <td>1</td>\n",
       "      <td>-0.251520</td>\n",
       "      <td>-0.403482</td>\n",
       "      <td>-1.557997</td>\n",
       "      <td>1.445214</td>\n",
       "      <td>-0.703680</td>\n",
       "      <td>-0.619161</td>\n",
       "      <td>-0.351902</td>\n",
       "      <td>-0.171144</td>\n",
       "      <td>...</td>\n",
       "      <td>-0.142424</td>\n",
       "      <td>-0.053550</td>\n",
       "      <td>-0.202123</td>\n",
       "      <td>0.085877</td>\n",
       "      <td>0.234648</td>\n",
       "      <td>-0.265061</td>\n",
       "      <td>0.303707</td>\n",
       "      <td>0.168222</td>\n",
       "      <td>0.101471</td>\n",
       "      <td>0</td>\n",
       "    </tr>\n",
       "    <tr>\n",
       "      <th>2</th>\n",
       "      <td>0.282618</td>\n",
       "      <td>1</td>\n",
       "      <td>0.948788</td>\n",
       "      <td>-0.714987</td>\n",
       "      <td>-1.153532</td>\n",
       "      <td>1.096862</td>\n",
       "      <td>-0.317905</td>\n",
       "      <td>0.210462</td>\n",
       "      <td>-1.043646</td>\n",
       "      <td>0.969250</td>\n",
       "      <td>...</td>\n",
       "      <td>0.110291</td>\n",
       "      <td>-0.395159</td>\n",
       "      <td>-1.221043</td>\n",
       "      <td>0.212406</td>\n",
       "      <td>-0.071539</td>\n",
       "      <td>-0.133931</td>\n",
       "      <td>-0.045221</td>\n",
       "      <td>0.095197</td>\n",
       "      <td>0.079633</td>\n",
       "      <td>0</td>\n",
       "    </tr>\n",
       "    <tr>\n",
       "      <th>3</th>\n",
       "      <td>0.260266</td>\n",
       "      <td>1</td>\n",
       "      <td>0.230839</td>\n",
       "      <td>0.377507</td>\n",
       "      <td>-0.063657</td>\n",
       "      <td>0.716875</td>\n",
       "      <td>-1.146666</td>\n",
       "      <td>1.619539</td>\n",
       "      <td>-1.418952</td>\n",
       "      <td>1.907872</td>\n",
       "      <td>...</td>\n",
       "      <td>0.137095</td>\n",
       "      <td>0.184740</td>\n",
       "      <td>0.808247</td>\n",
       "      <td>-0.255063</td>\n",
       "      <td>-0.606518</td>\n",
       "      <td>-0.222594</td>\n",
       "      <td>0.099614</td>\n",
       "      <td>0.211770</td>\n",
       "      <td>0.045021</td>\n",
       "      <td>0</td>\n",
       "    </tr>\n",
       "    <tr>\n",
       "      <th>4</th>\n",
       "      <td>0.302035</td>\n",
       "      <td>1</td>\n",
       "      <td>-0.279466</td>\n",
       "      <td>0.649127</td>\n",
       "      <td>-1.034736</td>\n",
       "      <td>0.581110</td>\n",
       "      <td>1.178578</td>\n",
       "      <td>-0.194626</td>\n",
       "      <td>0.390951</td>\n",
       "      <td>-0.161889</td>\n",
       "      <td>...</td>\n",
       "      <td>-0.105769</td>\n",
       "      <td>-0.133762</td>\n",
       "      <td>-0.178392</td>\n",
       "      <td>-0.344198</td>\n",
       "      <td>-0.041099</td>\n",
       "      <td>0.328147</td>\n",
       "      <td>-0.515180</td>\n",
       "      <td>-0.113233</td>\n",
       "      <td>0.118757</td>\n",
       "      <td>0</td>\n",
       "    </tr>\n",
       "  </tbody>\n",
       "</table>\n",
       "<p>5 rows × 26 columns</p>\n",
       "</div>"
      ],
      "text/plain": [
       "     scores  anomaly  scaled_amount  scaled_time        V1        V2  \\\n",
       "0  0.272523        1      -0.282401     0.409239 -0.412125  0.689071   \n",
       "1  0.305407        1      -0.251520    -0.403482 -1.557997  1.445214   \n",
       "2  0.282618        1       0.948788    -0.714987 -1.153532  1.096862   \n",
       "3  0.260266        1       0.230839     0.377507 -0.063657  0.716875   \n",
       "4  0.302035        1      -0.279466     0.649127 -1.034736  0.581110   \n",
       "\n",
       "         V4        V5        V6        V7  ...       V20       V21       V22  \\\n",
       "0 -1.672189  3.549380  3.181706  0.578688  ...  0.111821 -0.332041 -0.754061   \n",
       "1 -0.703680 -0.619161 -0.351902 -0.171144  ... -0.142424 -0.053550 -0.202123   \n",
       "2 -0.317905  0.210462 -1.043646  0.969250  ...  0.110291 -0.395159 -1.221043   \n",
       "3 -1.146666  1.619539 -1.418952  1.907872  ...  0.137095  0.184740  0.808247   \n",
       "4  1.178578 -0.194626  0.390951 -0.161889  ... -0.105769 -0.133762 -0.178392   \n",
       "\n",
       "        V23       V24       V25       V26       V27       V28  Class  \n",
       "0 -0.018708  0.606893 -0.671096  0.107782  0.116460  0.027057      0  \n",
       "1  0.085877  0.234648 -0.265061  0.303707  0.168222  0.101471      0  \n",
       "2  0.212406 -0.071539 -0.133931 -0.045221  0.095197  0.079633      0  \n",
       "3 -0.255063 -0.606518 -0.222594  0.099614  0.211770  0.045021      0  \n",
       "4 -0.344198 -0.041099  0.328147 -0.515180 -0.113233  0.118757      0  \n",
       "\n",
       "[5 rows x 26 columns]"
      ]
     },
     "execution_count": 8,
     "metadata": {},
     "output_type": "execute_result"
    }
   ],
   "source": [
    "cols = data.columns.tolist()\n",
    "cols = cols[-2:] + cols[:-2]\n",
    "data = data[cols]\n",
    "data.head()"
   ]
  },
  {
   "cell_type": "code",
   "execution_count": 9,
   "metadata": {},
   "outputs": [
    {
     "data": {
      "image/png": "[encoded data removed]",
      "text/plain": [
       "<Figure size 1728x1440 with 2 Axes>"
      ]
     },
     "metadata": {
      "needs_background": "light"
     },
     "output_type": "display_data"
    }
   ],
   "source": [
    "# Make sure we use the subsample in our correlation\n",
    "fig, ax = plt.subplots(figsize=(24,20))\n",
    "\n",
    "anomaly_corr = data.corr()\n",
    "sns.heatmap(anomaly_corr, fmt=\"d\", annot_kws={'size':20},ax=ax)\n",
    "plt.title('Anomaly Correlation Matrix \\n (use for reference)', fontsize=14)\n",
    "plt.show()\n",
    "#plt.figure(figsize=(24,20))"
   ]
  },
  {
   "cell_type": "markdown",
   "metadata": {},
   "source": [
    "We will ANN to predict if a given transaction is fraud or not  \n",
    "We will use weights method to handle imbalance dataset"
   ]
  },
  {
   "cell_type": "code",
   "execution_count": 27,
   "metadata": {},
   "outputs": [],
   "source": [
    "X=data.iloc[:,1:25]\n",
    "y=data.iloc[:,-1]"
   ]
  },
  {
   "cell_type": "code",
   "execution_count": 28,
   "metadata": {},
   "outputs": [],
   "source": [
    "X_train, X_test, y_train, y_test = train_test_split(X, y, test_size=0.30, random_state=42)"
   ]
  },
  {
   "cell_type": "code",
   "execution_count": 16,
   "metadata": {},
   "outputs": [
    {
     "data": {
      "text/plain": [
       "0    199035\n",
       "1       329\n",
       "Name: Class, dtype: int64"
      ]
     },
     "execution_count": 16,
     "metadata": {},
     "output_type": "execute_result"
    }
   ],
   "source": [
    "y_train.value_counts()"
   ]
  },
  {
   "cell_type": "code",
   "execution_count": 29,
   "metadata": {},
   "outputs": [
    {
     "name": "stdout",
     "output_type": "stream",
     "text": [
      "24\n"
     ]
    }
   ],
   "source": [
    "print(len(X.columns))\n",
    "n_inputs=len(X.columns)"
   ]
  },
  {
   "cell_type": "code",
   "execution_count": 30,
   "metadata": {},
   "outputs": [
    {
     "name": "stdout",
     "output_type": "stream",
     "text": [
      "Epoch 1/10\n",
      "6231/6231 [==============================] - 11s 2ms/step - loss: 0.0113\n",
      "Epoch 2/10\n",
      "6231/6231 [==============================] - 11s 2ms/step - loss: 0.0041\n",
      "Epoch 3/10\n",
      "6231/6231 [==============================] - 11s 2ms/step - loss: 0.0035\n",
      "Epoch 4/10\n",
      "6231/6231 [==============================] - 11s 2ms/step - loss: 0.0031\n",
      "Epoch 5/10\n",
      "6231/6231 [==============================] - 11s 2ms/step - loss: 0.0030\n",
      "Epoch 6/10\n",
      "6231/6231 [==============================] - 11s 2ms/step - loss: 0.0028\n",
      "Epoch 7/10\n",
      "6231/6231 [==============================] - 11s 2ms/step - loss: 0.0026\n",
      "Epoch 8/10\n",
      "6231/6231 [==============================] - 11s 2ms/step - loss: 0.0025\n",
      "Epoch 9/10\n",
      "6231/6231 [==============================] - 11s 2ms/step - loss: 0.0024\n",
      "Epoch 10/10\n",
      "6231/6231 [==============================] - 11s 2ms/step - loss: 0.0023\n"
     ]
    },
    {
     "data": {
      "text/plain": [
       "<tensorflow.python.keras.callbacks.History at 0x1c2c0293148>"
      ]
     },
     "execution_count": 30,
     "metadata": {},
     "output_type": "execute_result"
    }
   ],
   "source": [
    "# define model\n",
    "model = Sequential()\n",
    "# define first hidden layer and visible layer\n",
    "model.add(Dense(50, input_dim=n_inputs, activation='relu', kernel_initializer='he_uniform'))\n",
    "# define output layer\n",
    "model.add(Dense(1, activation='sigmoid'))\n",
    "# define loss and optimizer\n",
    "model.compile(loss='binary_crossentropy', optimizer='adam')\n",
    "model.fit(X_train,y_train,epochs=10)"
   ]
  },
  {
   "cell_type": "code",
   "execution_count": 31,
   "metadata": {},
   "outputs": [
    {
     "name": "stdout",
     "output_type": "stream",
     "text": [
      "0.9573790847040136\n"
     ]
    }
   ],
   "source": [
    "\n",
    "y_pred1=model.predict(X_test)\n",
    "\n",
    "print(roc_auc_score(y_test,y_pred1))"
   ]
  },
  {
   "cell_type": "code",
   "execution_count": 45,
   "metadata": {},
   "outputs": [
    {
     "data": {
      "image/png": "[encoded data removed]",
      "text/plain": [
       "<Figure size 432x432 with 2 Axes>"
      ]
     },
     "metadata": {
      "needs_background": "light"
     },
     "output_type": "display_data"
    }
   ],
   "source": [
    "labels= ['Valid', 'Fraud'] \n",
    "conf_matrix=confusion_matrix(y_test, y_pred1.round()) \n",
    "plt.figure(figsize=(6, 6)) \n",
    "sns.heatmap(conf_matrix, xticklabels= labels, yticklabels= labels, annot=True, fmt=\"d\")\n",
    "plt.title(\"NN - Confusion Matrix\") \n",
    "plt.ylabel('True Value') \n",
    "plt.xlabel('Predicted Value') \n",
    "plt.show()"
   ]
  },
  {
   "cell_type": "markdown",
   "metadata": {},
   "source": [
    "#### Weighted NN"
   ]
  },
  {
   "cell_type": "code",
   "execution_count": 32,
   "metadata": {},
   "outputs": [
    {
     "data": {
      "text/plain": [
       "577.8760162601626"
      ]
     },
     "execution_count": 32,
     "metadata": {},
     "output_type": "execute_result"
    }
   ],
   "source": [
    "data['Class'].value_counts()[0]/data['Class'].value_counts()[1]"
   ]
  },
  {
   "cell_type": "code",
   "execution_count": 33,
   "metadata": {},
   "outputs": [],
   "source": [
    "weights_assigned={0:1,1:550}"
   ]
  },
  {
   "cell_type": "code",
   "execution_count": 36,
   "metadata": {},
   "outputs": [
    {
     "name": "stdout",
     "output_type": "stream",
     "text": [
      "Epoch 1/10\n",
      "6231/6231 [==============================] - 11s 2ms/step - loss: 0.7283\n",
      "Epoch 2/10\n",
      "6231/6231 [==============================] - 12s 2ms/step - loss: 0.3326\n",
      "Epoch 3/10\n",
      "6231/6231 [==============================] - 12s 2ms/step - loss: 0.2685\n",
      "Epoch 4/10\n",
      "6231/6231 [==============================] - 13s 2ms/step - loss: 0.2268\n",
      "Epoch 5/10\n",
      "6231/6231 [==============================] - 12s 2ms/step - loss: 0.2287\n",
      "Epoch 6/10\n",
      "6231/6231 [==============================] - 12s 2ms/step - loss: 0.1963\n",
      "Epoch 7/10\n",
      "6231/6231 [==============================] - 12s 2ms/step - loss: 0.2023\n",
      "Epoch 8/10\n",
      "6231/6231 [==============================] - 12s 2ms/step - loss: 0.1879\n",
      "Epoch 9/10\n",
      "6231/6231 [==============================] - 11s 2ms/step - loss: 0.1745\n",
      "Epoch 10/10\n",
      "6231/6231 [==============================] - 12s 2ms/step - loss: 0.1684\n"
     ]
    },
    {
     "data": {
      "text/plain": [
       "<tensorflow.python.keras.callbacks.History at 0x1c2c04bf208>"
      ]
     },
     "execution_count": 36,
     "metadata": {},
     "output_type": "execute_result"
    }
   ],
   "source": [
    "# define model\n",
    "model = Sequential()\n",
    "# define first hidden layer and visible layer\n",
    "model.add(Dense(50, input_dim=n_inputs, activation='relu', kernel_initializer='he_uniform'))\n",
    "# define output layer\n",
    "model.add(Dense(1, activation='sigmoid'))\n",
    "# define loss and optimizer\n",
    "model.compile(loss='binary_crossentropy', optimizer='adam')\n",
    "model.fit(X_train,y_train,class_weight=weights_assigned,epochs=10)"
   ]
  },
  {
   "cell_type": "code",
   "execution_count": 37,
   "metadata": {},
   "outputs": [
    {
     "name": "stdout",
     "output_type": "stream",
     "text": [
      "0.9619257458649385\n"
     ]
    }
   ],
   "source": [
    "y_predf=model.predict(X_test)\n",
    "\n",
    "print(roc_auc_score(y_test,y_predf))"
   ]
  },
  {
   "cell_type": "code",
   "execution_count": 44,
   "metadata": {},
   "outputs": [
    {
     "data": {
      "image/png": "[encoded data removed]",
      "text/plain": [
       "<Figure size 432x432 with 2 Axes>"
      ]
     },
     "metadata": {
      "needs_background": "light"
     },
     "output_type": "display_data"
    }
   ],
   "source": [
    "labels= ['Valid', 'Fraud'] \n",
    "conf_matrix=confusion_matrix(y_test, y_predf.round()) \n",
    "plt.figure(figsize=(6, 6)) \n",
    "sns.heatmap(conf_matrix, xticklabels= labels, yticklabels= labels, annot=True, fmt=\"d\")\n",
    "plt.title(\"NN - Confusion Matrix\") \n",
    "plt.ylabel('True Value') \n",
    "plt.xlabel('Predicted Value') \n",
    "plt.show()"
   ]
  },
  {
   "cell_type": "markdown",
   "metadata": {},
   "source": [
    "Though the area under ROC curve did not vary much for normal NN and weighted NN we can see a change in confusion matrix. In our application the most important quarter in confusion matrix is FN (Actually fraud but predicted as valid).  \n",
    "Case1 (Normal NN): We have 40 cases where our model predicted fraud cases as valid. Here the model is more biased towards valid cases.  \n",
    "Case2 (Weighted NN): We have only 19 cases where we predicted fraud cases as valid (reduced from case1). With weighted NN we have overcame the problem with imablanced dataset. "
   ]
  }
 ],
 "metadata": {
  "kernelspec": {
   "display_name": "Python 3",
   "language": "python",
   "name": "python3"
  },
  "language_info": {
   "codemirror_mode": {
    "name": "ipython",
    "version": 3
   },
   "file_extension": ".py",
   "mimetype": "text/x-python",
   "name": "python",
   "nbconvert_exporter": "python",
   "pygments_lexer": "ipython3",
   "version": "3.7.6"
  }
 },
 "nbformat": 4,
 "nbformat_minor": 4
}
